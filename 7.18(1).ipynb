{
 "cells": [
  {
   "cell_type": "markdown",
   "metadata": {},
   "source": [
    "# 选择\n",
    "## 布尔类型、数值和表达式\n",
    "![](../Photo/33.png)\n",
    "- 注意：比较运算符的相等是两个等号，一个等到代表赋值\n",
    "- 在Python中可以用整型0来代表False，其他数字来代表True\n",
    "- 后面还会讲到 is 在判断语句中的用发"
   ]
  },
  {
   "cell_type": "code",
   "execution_count": 1,
   "metadata": {},
   "outputs": [
    {
     "data": {
      "text/plain": [
       "False"
      ]
     },
     "execution_count": 1,
     "metadata": {},
     "output_type": "execute_result"
    }
   ],
   "source": [
    "a='1'\n",
    "b='2'\n",
    "a>b"
   ]
  },
  {
   "cell_type": "markdown",
   "metadata": {},
   "source": [
    "## 字符串的比较使用ASCII值"
   ]
  },
  {
   "cell_type": "markdown",
   "metadata": {},
   "source": [
    "## Markdown \n",
    "- https://github.com/younghz/Markdown"
   ]
  },
  {
   "cell_type": "markdown",
   "metadata": {},
   "source": [
    "## EP:\n",
    "- <img src=\"../Photo/34.png\"></img>\n",
    "- 输入一个数字，判断其实奇数还是偶数"
   ]
  },
  {
   "cell_type": "markdown",
   "metadata": {},
   "source": [
    "## 产生随机数字\n",
    "- 函数random.randint(a,b) 可以用来产生一个a和b之间且包括a和b的随机整数"
   ]
  },
  {
   "cell_type": "markdown",
   "metadata": {},
   "source": [
    "产生一个随机数，你去输入，如果你输入的数大于随机数，那么就告诉你太大了，反之，太小了，\n",
    "然后你一直输入，知道它满意为止"
   ]
  },
  {
   "cell_type": "code",
   "execution_count": 2,
   "metadata": {},
   "outputs": [],
   "source": [
    "import random"
   ]
  },
  {
   "cell_type": "code",
   "execution_count": 7,
   "metadata": {},
   "outputs": [
    {
     "name": "stdout",
     "output_type": "stream",
     "text": [
      "数字22\n",
      "数值太大\n",
      "数字12\n",
      "数值太大\n",
      "数字9\n",
      "数值太大\n",
      "数字2\n",
      "满意\n"
     ]
    }
   ],
   "source": [
    "while 1:\n",
    "    y=random.randint(1,10)\n",
    "    x=eval(input('数字'))\n",
    "    if x>y:\n",
    "        print('数值太大')\n",
    "    if x<y:\n",
    "        print('数值太小')\n",
    "    if x==y:\n",
    "        print('满意')\n",
    "        break"
   ]
  },
  {
   "cell_type": "markdown",
   "metadata": {},
   "source": [
    "##  其他random方法\n",
    "- random.random 返回0.0到1.0之间前闭后开区间的随机浮点\n",
    "- random.randrange(a,b) 前闭后开"
   ]
  },
  {
   "cell_type": "code",
   "execution_count": null,
   "metadata": {},
   "outputs": [],
   "source": []
  },
  {
   "cell_type": "markdown",
   "metadata": {},
   "source": [
    "## EP：\n",
    "- 产生两个随机整数number1和number2，然后显示给用户，使用户输入数字的和，并判定其是否正确\n",
    "- 进阶:写一个随机序号点名程序"
   ]
  },
  {
   "cell_type": "code",
   "execution_count": 5,
   "metadata": {},
   "outputs": [],
   "source": [
    "import random"
   ]
  },
  {
   "cell_type": "code",
   "execution_count": 7,
   "metadata": {},
   "outputs": [
    {
     "name": "stdout",
     "output_type": "stream",
     "text": [
      "两个数字分别为： 8 1\n",
      "请用户输入两个数的和：\n",
      "数字=14\n",
      "14\n",
      "错误\n",
      "数字=9\n",
      "9\n",
      "正确\n"
     ]
    }
   ],
   "source": [
    "x=random.randint(1,10)\n",
    "y=random.randint(1,10)\n",
    "print('两个数字分别为：',x,y)\n",
    "print('请用户输入两个数的和：')\n",
    "for i in range(5):\n",
    "    z=eval(input('数字='))\n",
    "    print(z)\n",
    "    if z==(x+y):\n",
    "        print(\"正确\")\n",
    "        break\n",
    "    else:\n",
    "        print('错误')"
   ]
  },
  {
   "cell_type": "code",
   "execution_count": 4,
   "metadata": {},
   "outputs": [
    {
     "name": "stdout",
     "output_type": "stream",
     "text": [
      "0\n",
      "1\n",
      "2\n",
      "3\n",
      "4\n",
      "5\n",
      "6\n",
      "7\n",
      "8\n",
      "9\n"
     ]
    }
   ],
   "source": [
    "for i in range(10):\n",
    "    print(i)"
   ]
  },
  {
   "cell_type": "code",
   "execution_count": 11,
   "metadata": {},
   "outputs": [
    {
     "name": "stdout",
     "output_type": "stream",
     "text": [
      "x=10\n",
      "2 可以整除\n",
      "5 可以整除\n"
     ]
    }
   ],
   "source": [
    "x=eval(input('x='))\n",
    "for i in range(2,x):\n",
    "    if x%i ==0:\n",
    "        print(i,'可以整除')"
   ]
  },
  {
   "cell_type": "markdown",
   "metadata": {},
   "source": [
    "## if语句\n",
    "- 如果条件正确就执行一个单向if语句，亦即当条件为真的时候才执行if内部的语句\n",
    "- Python有很多选择语句:\n",
    "> - 单向if \n",
    "  - 双向if-else\n",
    "  - 嵌套if\n",
    "  - 多向if-elif-else\n",
    "  \n",
    "- 注意：当语句含有子语句的时候，那么一定至少要有一个缩进，也就是说如果有儿子存在，那么一定要缩进\n",
    "- 切记不可tab键和space混用，单用tab 或者 space\n",
    "- 当你输出的结果是无论if是否为真时都需要显示时，语句应该与if对齐"
   ]
  },
  {
   "cell_type": "code",
   "execution_count": 7,
   "metadata": {},
   "outputs": [
    {
     "name": "stdout",
     "output_type": "stream",
     "text": [
      "输入一个数字3\n",
      "奇数\n"
     ]
    }
   ],
   "source": [
    "x=eval(input('输入一个数字'))\n",
    "if x%2==0:\n",
    "    print(\"偶数\")\n",
    "else:\n",
    "    print(\"奇数\")"
   ]
  },
  {
   "cell_type": "markdown",
   "metadata": {},
   "source": [
    "## EP：\n",
    "- 用户输入一个数字，判断其实奇数还是偶数\n",
    "- 进阶：可以查看下4.5实例研究猜生日"
   ]
  },
  {
   "cell_type": "markdown",
   "metadata": {},
   "source": [
    "## 双向if-else 语句\n",
    "- 如果条件为真，那么走if内部语句，否则走else内部语句"
   ]
  },
  {
   "cell_type": "markdown",
   "metadata": {},
   "source": [
    "## EP：\n",
    "- 产生两个随机整数number1和number2，然后显示给用户，使用户输入数字，并判定其是否正确,如果正确打印“you‘re correct”，否则打印正确错误"
   ]
  },
  {
   "cell_type": "markdown",
   "metadata": {},
   "source": [
    "## 嵌套if 和多向if-elif-else\n",
    "![](../Photo/35.png)"
   ]
  },
  {
   "cell_type": "code",
   "execution_count": 8,
   "metadata": {},
   "outputs": [
    {
     "name": "stdout",
     "output_type": "stream",
     "text": [
      "money[yes/no]yes\n",
      "是否帅\n",
      "handsome[yes/no]yes\n",
      "是否有妻子\n",
      "wife[yes/no]no\n",
      "马上结婚\n"
     ]
    }
   ],
   "source": [
    "money=input('money[yes/no]')\n",
    "if money=='yes':\n",
    "    print('是否帅')\n",
    "    handsome=input('handsome[yes/no]')\n",
    "    if handsome=='yes':\n",
    "        print('是否有妻子')\n",
    "        wife=input('wife[yes/no]')\n",
    "        if wife=='yes':\n",
    "            print('不拒绝')\n",
    "        else:\n",
    "            print('马上结婚')\n",
    "    else:\n",
    "        print('考虑一下')\n",
    "else:\n",
    "    print('gun')\n",
    "    "
   ]
  },
  {
   "cell_type": "code",
   "execution_count": 11,
   "metadata": {},
   "outputs": [
    {
     "name": "stdout",
     "output_type": "stream",
     "text": [
      "A\n"
     ]
    }
   ],
   "source": [
    "score=90\n",
    "if score>=90:\n",
    "    grade='A'\n",
    "elif score>=80:\n",
    "    grade='B'\n",
    "elif score>=70:\n",
    "    grade='C'\n",
    "else:\n",
    "    grade='D'\n",
    "print(grade)"
   ]
  },
  {
   "cell_type": "code",
   "execution_count": 21,
   "metadata": {},
   "outputs": [
    {
     "name": "stdout",
     "output_type": "stream",
     "text": [
      "money[yes/no]yes\n",
      "handsome[yes/no]yes\n",
      "wife[yes/no]no\n",
      "考虑一下\n"
     ]
    }
   ],
   "source": [
    "money=input('money[yes/no]')\n",
    "handsome=input('handsome[yes/no]') \n",
    "wife=input('wife[yes/no]')   \n",
    "if money=='yes':\n",
    "    result='考虑一下'\n",
    "elif handsome=='yes':\n",
    "    result='挺好'\n",
    "elif wife=='no':\n",
    "    result='马上结婚'\n",
    "else:\n",
    "    result='滚'\n",
    "print(result)"
   ]
  },
  {
   "cell_type": "code",
   "execution_count": 20,
   "metadata": {},
   "outputs": [
    {
     "name": "stdout",
     "output_type": "stream",
     "text": [
      "money[0/1]0\n",
      "handsome[0/1]1\n",
      "wife[0/1]1\n",
      "滚\n"
     ]
    }
   ],
   "source": [
    "x1=eval(input('money[0/1]'))\n",
    "x2=eval(input('handsome[0/1]'))\n",
    "x3=eval(input('wife[0/1]'))\n",
    "x=x1+x2+x3\n",
    "if x==0:\n",
    "    print('滚')\n",
    "if x==2:\n",
    "    if x1==0:\n",
    "        print('滚')\n",
    "    elif x2==0:\n",
    "        print('考虑一下')\n",
    "    elif x3==0:\n",
    "        print('马上结婚')        \n",
    "elif x==3:\n",
    "    print('有老婆也要考虑一下')"
   ]
  },
  {
   "cell_type": "markdown",
   "metadata": {},
   "source": [
    "## EP：\n",
    "- 提示用户输入一个年份，然后显示表示这一年的动物\n",
    "![](../Photo/36.png)\n",
    "- 计算身体质量指数的程序\n",
    "- BMI = 以千克为单位的体重除以以米为单位的身高的平方\n",
    "![](../Photo/37.png)"
   ]
  },
  {
   "cell_type": "code",
   "execution_count": 22,
   "metadata": {},
   "outputs": [
    {
     "name": "stdout",
     "output_type": "stream",
     "text": [
      "YEAR=1998\n",
      "虎\n"
     ]
    }
   ],
   "source": [
    "year=eval(input('YEAR='))\n",
    "res=year%12\n",
    "if res==0:\n",
    "    print('猴')\n",
    "elif res==1:\n",
    "    print('鸡')\n",
    "elif res==2:\n",
    "    print('狗')\n",
    "elif res==3:\n",
    "    print('猪')\n",
    "elif res==4:\n",
    "    print('鼠')\n",
    "elif res==5:\n",
    "    print('牛')\n",
    "elif res==6:\n",
    "    print('虎')\n",
    "elif res==7:\n",
    "    print('兔')\n",
    "elif res==8:\n",
    "    print('龙')\n",
    "elif res==9:\n",
    "    print('蛇')\n",
    "elif res==10:\n",
    "    print('马')\n",
    "elif res==11:\n",
    "    print('羊')"
   ]
  },
  {
   "cell_type": "code",
   "execution_count": 14,
   "metadata": {},
   "outputs": [
    {
     "name": "stdout",
     "output_type": "stream",
     "text": [
      "身高=1.68\n",
      "体重=55\n",
      "标准\n"
     ]
    }
   ],
   "source": [
    "身高=eval(input('身高='))\n",
    "体重=eval(input('体重='))\n",
    "BIM=体重/身高**2\n",
    "if BIM<18.5:\n",
    "    print('超轻')\n",
    "elif 18.5<BIM<25:\n",
    "    print('标准')\n",
    "elif 25<BIM<30:\n",
    "     print('超重1')\n",
    "else:\n",
    "     print('超级肥胖')"
   ]
  },
  {
   "cell_type": "markdown",
   "metadata": {},
   "source": [
    "## 逻辑运算符\n",
    "![](../Photo/38.png)"
   ]
  },
  {
   "cell_type": "markdown",
   "metadata": {},
   "source": [
    "![](../Photo/39.png)\n",
    "![](../Photo/40.png)"
   ]
  },
  {
   "cell_type": "markdown",
   "metadata": {},
   "source": [
    "## EP：\n",
    "- 判定闰年：一个年份如果能被4整除但不能被100整除，或者能被400整除，那么这个年份就是闰年\n",
    "- 提示用户输入一个年份，并返回是否是闰年\n",
    "- 提示用户输入一个数字，判断其是否为水仙花数"
   ]
  },
  {
   "cell_type": "code",
   "execution_count": 24,
   "metadata": {},
   "outputs": [
    {
     "name": "stdout",
     "output_type": "stream",
     "text": [
      "输入一个数2009\n",
      "这个年份not闰年\n"
     ]
    }
   ],
   "source": [
    "x=eval(input('输入一个数'))\n",
    "if (x%4==0) and not(x%100==0) or (x%400==0):\n",
    "    print('这个年份是闰年')\n",
    "else:\n",
    "    print('这个年份not闰年')"
   ]
  },
  {
   "cell_type": "code",
   "execution_count": 28,
   "metadata": {},
   "outputs": [
    {
     "name": "stdout",
     "output_type": "stream",
     "text": [
      "数字154\n",
      "不是水仙花数\n"
     ]
    }
   ],
   "source": [
    "number=eval(input('数字'))\n",
    "bai=number//100\n",
    "shi=number//10%10\n",
    "ge=number%10\n",
    "if bai **3+shi**3+ge**3==number:\n",
    "    print('是水仙花数')\n",
    "else:\n",
    "    print('不是水仙花数')"
   ]
  },
  {
   "cell_type": "code",
   "execution_count": 32,
   "metadata": {},
   "outputs": [
    {
     "name": "stdout",
     "output_type": "stream",
     "text": [
      "153 是水仙花数\n",
      "370 是水仙花数\n",
      "371 是水仙花数\n",
      "407 是水仙花数\n"
     ]
    }
   ],
   "source": [
    "for number in range(100,1000):\n",
    "    bai=number//100\n",
    "    shi=number//10%10\n",
    "    ge=number%10\n",
    "    if bai **3+shi**3+ge**3==number:\n",
    "        print(number,'是水仙花数')"
   ]
  },
  {
   "cell_type": "markdown",
   "metadata": {},
   "source": [
    "## 实例研究：彩票\n",
    "![](../Photo/41.png)"
   ]
  },
  {
   "cell_type": "markdown",
   "metadata": {},
   "source": [
    "# Homework\n",
    "- 1\n",
    "![](../Photo/42.png)"
   ]
  },
  {
   "cell_type": "code",
   "execution_count": 9,
   "metadata": {},
   "outputs": [
    {
     "name": "stdout",
     "output_type": "stream",
     "text": [
      "输入一个数字1.0\n",
      "输入一个数字3\n",
      "输入一个数字1\n",
      "-0.3819660112501051 -2.618033988749895\n"
     ]
    }
   ],
   "source": [
    "a=eval(input('输入一个数字'))\n",
    "b=eval(input('输入一个数字'))\n",
    "c=eval(input('输入一个数字'))\n",
    "res=b**2-4*a*c\n",
    "r1=(-b+(b**2-4*a*c)**0.5)/2*a\n",
    "r2=(-b-(b**2-4*a*c)**0.5)/2*a\n",
    "if res>0:\n",
    "    print(r1,r2)\n",
    "elif res==0:\n",
    "    print(r1)\n",
    "else:\n",
    "    print('the equation has no real roots')"
   ]
  },
  {
   "cell_type": "markdown",
   "metadata": {},
   "source": [
    "- 2\n",
    "![](../Photo/43.png)"
   ]
  },
  {
   "cell_type": "code",
   "execution_count": 11,
   "metadata": {},
   "outputs": [],
   "source": [
    "import random"
   ]
  },
  {
   "cell_type": "code",
   "execution_count": 13,
   "metadata": {},
   "outputs": [
    {
     "name": "stdout",
     "output_type": "stream",
     "text": [
      "两个数字分别为： 60 17\n",
      "请用户输入两个数的和：\n",
      "数字=52\n",
      "错误\n",
      "数字=77\n",
      "正确\n"
     ]
    }
   ],
   "source": [
    "x=random.randint(1,100)\n",
    "y=random.randint(1,100)\n",
    "print('两个数字分别为：',x,y)\n",
    "print('请用户输入两个数的和：')\n",
    "for i in range(5):\n",
    "    z=eval(input('数字='))\n",
    "    if z==(x+y):\n",
    "        print(\"正确\")\n",
    "        break\n",
    "    else:\n",
    "        print('错误')"
   ]
  },
  {
   "cell_type": "markdown",
   "metadata": {},
   "source": [
    "- 3\n",
    "![](../Photo/44.png)"
   ]
  },
  {
   "cell_type": "code",
   "execution_count": 5,
   "metadata": {},
   "outputs": [
    {
     "name": "stdout",
     "output_type": "stream",
     "text": [
      "今天星期：1\n",
      "几天后3\n",
      "星期 4\n"
     ]
    }
   ],
   "source": [
    "today=eval(input('今天星期：'))\n",
    "number=eval(input('几天后'))\n",
    "res=number%7\n",
    "if res==0:\n",
    "    print('星期',0+today)\n",
    "elif res==1:\n",
    "    print('星期',1+today)\n",
    "elif res==2:\n",
    "    print('星期',2+today)\n",
    "elif res==3:\n",
    "    print('星期',3+today)\n",
    "elif res==4:\n",
    "    print('星期',4+today)\n",
    "elif res==5:\n",
    "    print('星期',5+today)\n",
    "elif res==6:\n",
    "    print('星期',6+today)"
   ]
  },
  {
   "cell_type": "markdown",
   "metadata": {},
   "source": [
    "- 4\n",
    "![](../Photo/45.png)"
   ]
  },
  {
   "cell_type": "code",
   "execution_count": 6,
   "metadata": {},
   "outputs": [
    {
     "name": "stdout",
     "output_type": "stream",
     "text": [
      "输入一个数字5\n",
      "输入一个数字6\n",
      "输入一个数字1\n",
      "1 5 6\n"
     ]
    }
   ],
   "source": [
    "a=eval(input('输入一个数字'))\n",
    "b=eval(input('输入一个数字'))\n",
    "c=eval(input('输入一个数字'))\n",
    "if a>=b:\n",
    "    if a>=c:\n",
    "        if b>=c:\n",
    "            print(c,b,a)\n",
    "        else:\n",
    "            print(b,c,a)\n",
    "    else:\n",
    "        print(b,a,c)\n",
    "else:\n",
    "    if a>=c:\n",
    "        print(c,a,b)\n",
    "    elif b>=c:\n",
    "        print(a,c,b)\n",
    "    else:\n",
    "        print(a,b,c)"
   ]
  },
  {
   "cell_type": "markdown",
   "metadata": {},
   "source": [
    "- 5\n",
    "![](../Photo/46.png)"
   ]
  },
  {
   "cell_type": "code",
   "execution_count": 7,
   "metadata": {},
   "outputs": [
    {
     "name": "stdout",
     "output_type": "stream",
     "text": [
      "重量，价格50,24.59\n",
      "重量，价格25,11.99\n",
      "package 2 has the better price\n"
     ]
    }
   ],
   "source": [
    "(x1,x2)=eval(input('重量，价格'))\n",
    "(y1,y2)=eval(input('重量，价格'))\n",
    "if x1<x2:\n",
    "    print('package 1 has the better price')\n",
    "else:\n",
    "    print('package 2 has the better price')"
   ]
  },
  {
   "cell_type": "markdown",
   "metadata": {},
   "source": [
    "- 6\n",
    "![](../Photo/47.png)"
   ]
  },
  {
   "cell_type": "code",
   "execution_count": 11,
   "metadata": {},
   "outputs": [
    {
     "name": "stdout",
     "output_type": "stream",
     "text": [
      "输入年2000\n",
      "输入月份2\n",
      "29天\n"
     ]
    }
   ],
   "source": [
    "year=eval(input('输入年'))\n",
    "month=eval(input('输入月份'))\n",
    "if (year%4==0) and not(year%100==0) or (year%400==0):\n",
    "    if month==1:\n",
    "        print('31天')\n",
    "    if month ==2:\n",
    "        print('29天')\n",
    "    if month ==3:\n",
    "        print('31天')\n",
    "    if month ==4:\n",
    "        print('30天')\n",
    "    if month ==5:\n",
    "        print('31天')\n",
    "    if month ==6:\n",
    "        print('30天')\n",
    "    if month ==7:\n",
    "        print('31天')\n",
    "    if month ==8:\n",
    "        print('31天')\n",
    "    if month ==9:\n",
    "        print('30天')\n",
    "    if month ==10:\n",
    "        print('31天')\n",
    "    if month ==11:\n",
    "        print('30天')\n",
    "    if month ==12:\n",
    "        print('31天')\n",
    "else:\n",
    "    if month==1:\n",
    "        print('31天')\n",
    "    if month ==2:\n",
    "        print('28天')\n",
    "    if month ==3:\n",
    "        print('31天')\n",
    "    if month ==4:\n",
    "        print('30天')\n",
    "    if month ==5:\n",
    "        print('31天')\n",
    "    if month ==6:\n",
    "        print('30天')\n",
    "    if month ==7:\n",
    "        print('31天')\n",
    "    if month ==8:\n",
    "        print('31天')\n",
    "    if month ==9:\n",
    "        print('30天')\n",
    "    if month ==10:\n",
    "        print('31天')\n",
    "    if month ==11:\n",
    "        print('30天')\n",
    "    if month ==12:\n",
    "        print('31天')\n",
    "         "
   ]
  },
  {
   "cell_type": "markdown",
   "metadata": {},
   "source": [
    "- 7\n",
    "![](../Photo/48.png)"
   ]
  },
  {
   "cell_type": "code",
   "execution_count": 13,
   "metadata": {},
   "outputs": [],
   "source": [
    "import random"
   ]
  },
  {
   "cell_type": "code",
   "execution_count": 18,
   "metadata": {},
   "outputs": [
    {
     "name": "stdout",
     "output_type": "stream",
     "text": [
      "输入数0\n",
      "正确\n"
     ]
    }
   ],
   "source": [
    "x=random.randint(0,1)\n",
    "y=eval(input('输入数'))\n",
    "if y==x:\n",
    "    print('正确')\n",
    "else:\n",
    "    print('错误')"
   ]
  },
  {
   "cell_type": "markdown",
   "metadata": {},
   "source": [
    "- 8\n",
    "![](../Photo/49.png)"
   ]
  },
  {
   "cell_type": "code",
   "execution_count": 24,
   "metadata": {},
   "outputs": [
    {
     "name": "stdout",
     "output_type": "stream",
     "text": [
      "输入数1\n",
      "计算机赢\n"
     ]
    }
   ],
   "source": [
    "scissor=0\n",
    "rock=1\n",
    "paper=2\n",
    "x=eval(input('输入数'))\n",
    "y=random.randint(0,2)\n",
    "if y>x:\n",
    "    print('计算机赢')\n",
    "elif y==x:\n",
    "    print('平局')\n",
    "elif y<x:\n",
    "    print('用户赢')"
   ]
  },
  {
   "cell_type": "markdown",
   "metadata": {},
   "source": [
    "- 9\n",
    "![](../Photo/50.png)"
   ]
  },
  {
   "cell_type": "code",
   "execution_count": 43,
   "metadata": {},
   "outputs": [
    {
     "name": "stdout",
     "output_type": "stream",
     "text": [
      "请输入年份2012\n",
      "请输入月份5\n",
      "请输入这是这个月的第几天12\n",
      "0.5999999999999943\n",
      "今天是星期六\n"
     ]
    }
   ],
   "source": [
    "import math\n",
    "y = int(input(\"请输入年份\"))\n",
    "m = int(input(\"请输入月份\"))\n",
    "q = int(input(\"请输入这是这个月的第几天\"))\n",
    "a = q + ((26 * (m + 1)) / 10 )\n",
    "j = y // 100\n",
    "k = y % 100\n",
    "b = k + (k / 4) +(j / 4) + 5 * j\n",
    "h = (a+b)%7\n",
    "print(h)\n",
    "x = math.floor(h)\n",
    "if x == 0: \n",
    "    print(\"今天是星期六\")\n",
    "elif x == 2: \n",
    "     print(\"今天是星期一\")\n",
    "elif x == 3:\n",
    "     print(\"今天是星期二\")\n",
    "elif x == 4:\n",
    "     print(\"今天是星期三\")\n",
    "elif x == 5:\n",
    "     print(\"今天是星期四\")\n",
    "elif x == 6:\n",
    "     print(\"今天是星期五\")\n",
    "elif x == 1:\n",
    "     print(\"今天是星期日\")"
   ]
  },
  {
   "cell_type": "markdown",
   "metadata": {},
   "source": [
    "- 10\n",
    "![](../Photo/51.png)"
   ]
  },
  {
   "cell_type": "code",
   "execution_count": 37,
   "metadata": {},
   "outputs": [],
   "source": [
    "import random"
   ]
  },
  {
   "cell_type": "code",
   "execution_count": 42,
   "metadata": {},
   "outputs": [
    {
     "name": "stdout",
     "output_type": "stream",
     "text": [
      "The card you picked is the 梅花 of 1\n"
     ]
    }
   ],
   "source": [
    "colour=random.randint(1,4)\n",
    "value=random.randint(1,12)\n",
    "if colour==1:\n",
    "    h='梅花'\n",
    "elif colour==2:\n",
    "    h='红桃'\n",
    "elif colour==3:\n",
    "    h='方块'\n",
    "elif colour==4:\n",
    "    h='黑桃'\n",
    "elif value==1:\n",
    "    value='Ace'\n",
    "elif value==2:\n",
    "    value='2'\n",
    "elif value==3:\n",
    "    value='3'\n",
    "elif value==4:\n",
    "    value='4'\n",
    "elif value==5:\n",
    "    value='5'\n",
    "elif value==6:\n",
    "    value='6'\n",
    "elif value==7:\n",
    "    value='7'\n",
    "elif value==8:\n",
    "    value='8'\n",
    "elif value==9:\n",
    "    value='9'\n",
    "elif value==10:\n",
    "    value='10'\n",
    "elif value==11:\n",
    "    value='Jack'\n",
    "elif value==2:\n",
    "    value='Queen'\n",
    "elif value==2:\n",
    "    value='king'\n",
    "\n",
    "print('The card you picked is the',h,'of',value)\n",
    "    "
   ]
  },
  {
   "cell_type": "code",
   "execution_count": 34,
   "metadata": {},
   "outputs": [
    {
     "name": "stdout",
     "output_type": "stream",
     "text": [
      "输入一个数123\n",
      "123 is not palindrome\n"
     ]
    }
   ],
   "source": [
    "x=eval(input('输入一个数'))\n",
    "a=x//100\n",
    "b=x%10\n",
    "if a==b:\n",
    "    print(x,'is a palindrome')\n",
    "else:\n",
    "    print(x,'is not palindrome')"
   ]
  },
  {
   "cell_type": "markdown",
   "metadata": {},
   "source": [
    "- 12\n",
    "![](../Photo/53.png)"
   ]
  },
  {
   "cell_type": "code",
   "execution_count": 36,
   "metadata": {},
   "outputs": [
    {
     "name": "stdout",
     "output_type": "stream",
     "text": [
      "输入三个边1,1,1\n",
      "合法,the perimeter is 3\n"
     ]
    }
   ],
   "source": [
    "a,b,c=eval(input('输入三个边'))\n",
    "if a+b>c:\n",
    "    print('合法,the perimeter is',a+b+c)\n",
    "elif a+c>b:\n",
    "    print('合法,the perimeter is',a+b+c)\n",
    "elif c+b>a:\n",
    "    print('合法,the perimeter is',a+b+c)\n",
    "else:\n",
    "    print('不合法')"
   ]
  },
  {
   "cell_type": "code",
   "execution_count": null,
   "metadata": {},
   "outputs": [],
   "source": []
  }
 ],
 "metadata": {
  "kernelspec": {
   "display_name": "Python 3",
   "language": "python",
   "name": "python3"
  },
  "language_info": {
   "codemirror_mode": {
    "name": "ipython",
    "version": 3
   },
   "file_extension": ".py",
   "mimetype": "text/x-python",
   "name": "python",
   "nbconvert_exporter": "python",
   "pygments_lexer": "ipython3",
   "version": "3.7.3"
  }
 },
 "nbformat": 4,
 "nbformat_minor": 2
}
